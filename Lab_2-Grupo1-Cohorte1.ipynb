{
  "nbformat": 4,
  "nbformat_minor": 0,
  "metadata": {
    "kernelspec": {
      "display_name": "Python 3",
      "language": "python",
      "name": "python3"
    },
    "language_info": {
      "codemirror_mode": {
        "name": "ipython",
        "version": 3
      },
      "file_extension": ".py",
      "mimetype": "text/x-python",
      "name": "python",
      "nbconvert_exporter": "python",
      "pygments_lexer": "ipython3",
      "version": "3.7.7"
    },
    "colab": {
      "name": "Lab 2.ipynb",
      "provenance": [],
      "collapsed_sections": []
    }
  },
  "cells": [
    {
      "cell_type": "markdown",
      "metadata": {
        "id": "z9AMfociwAW6",
        "colab_type": "text"
      },
      "source": [
        "# Laboratorio 2: Armado de un esquema de aprendizaje automático\n",
        "\n",
        "En el laboratorio final se espera que puedan poner en práctica los conocimientos adquiridos en el curso, trabajando con un conjunto de datos de clasificación.\n",
        "\n",
        "El objetivo es que se introduzcan en el desarrollo de un esquema para hacer tareas de aprendizaje automático: selección de un modelo, ajuste de hiperparámetros y evaluación.\n",
        "\n",
        "El conjunto de datos a utilizar está en `./data/loan_data.csv` . Si abren el archivo verán que al principio (las líneas que empiezan con `#`) describen el conjunto de datos y sus atributos (incluyendo el atributo de etiqueta o clase).\n",
        "\n",
        "Se espera que hagan uso de las herramientas vistas en el curso. Se espera que hagan uso especialmente de las herramientas brindadas por `scikit-learn`."
      ]
    },
    {
      "cell_type": "code",
      "metadata": {
        "id": "_Q7vPHOQwAW9",
        "colab_type": "code",
        "colab": {}
      },
      "source": [
        "import numpy as np\n",
        "import pandas as pd\n",
        "import sys\n",
        "import matplotlib\n",
        "\n",
        "# TODO: Agregar las librerías que hagan falta\n",
        "from sklearn.model_selection import train_test_split\n",
        "from sklearn.preprocessing import StandardScaler\n",
        "from sklearn import tree\n",
        "from sklearn.linear_model import SGDClassifier\n",
        "from sklearn.metrics import accuracy_score, precision_score, recall_score, f1_score, confusion_matrix\n",
        "from sklearn.model_selection import GridSearchCV\n",
        "\n",
        "in_colab = 'google.colab' in sys.modules"
      ],
      "execution_count": 1,
      "outputs": []
    },
    {
      "cell_type": "code",
      "metadata": {
        "id": "ubcTaFEcwAXA",
        "colab_type": "code",
        "colab": {}
      },
      "source": [
        "def get_metrics(y_true, y_pred):\n",
        "    \"\"\"Devuelve un DataFrame con accuracy, precision, recall y f1-score\n",
        "    \"\"\"\n",
        "    \n",
        "    accuracy = accuracy_score(y_true, y_pred)\n",
        "    precision = precision_score(y_true, y_pred)\n",
        "    recall = recall_score(y_true, y_pred)\n",
        "    f1 = f1_score(y_true, y_pred)\n",
        "    df = pd.DataFrame(\n",
        "        data=[[accuracy, precision, recall, f1]],\n",
        "        columns=['Accuracy', 'Precision', 'Recall', 'F1-Score']\n",
        "    ).applymap(\"{0:.2%}\".format)\n",
        "    return df"
      ],
      "execution_count": 2,
      "outputs": []
    },
    {
      "cell_type": "code",
      "metadata": {
        "id": "MlYxcMINwAXD",
        "colab_type": "code",
        "colab": {}
      },
      "source": [
        "def get_confusion_matrix(y_true, y_pred):\n",
        "    \"\"\"Devuelve un DataFrame con la matriz de confusión\n",
        "    \"\"\"\n",
        "    \n",
        "    cm = confusion_matrix(y_true, y_pred, labels=[0, 1])\n",
        "    df = pd.DataFrame(\n",
        "        cm, \n",
        "        columns=['Actual - Repaid', 'Actual - Default'],\n",
        "        index=['Predicted - Repaid', 'Predicted - Default']\n",
        "    )\n",
        "    df.loc['Total']= df.sum()  # Agrego fila de totales\n",
        "    df['Total'] = df.sum(axis=1)  # Agrego columna de totales\n",
        "    \n",
        "    return df"
      ],
      "execution_count": 3,
      "outputs": []
    },
    {
      "cell_type": "markdown",
      "metadata": {
        "id": "yrYXaV1OwAXJ",
        "colab_type": "text"
      },
      "source": [
        "## Carga de datos y división en entrenamiento y evaluación\n",
        "\n",
        "La celda siguiente se encarga de la carga de datos (haciendo uso de pandas). Estos serán los que se trabajarán en el resto del laboratorio."
      ]
    },
    {
      "cell_type": "code",
      "metadata": {
        "id": "xPSu4NJmwAXJ",
        "colab_type": "code",
        "colab": {}
      },
      "source": [
        "if in_colab:\n",
        "  data_dir = \"https://raw.githubusercontent.com/DiploDatos/IntroduccionAprendizajeAutomatico/master/data/loan_data.csv\"\n",
        "else:\n",
        "  data_dir = \"./data/loan_data.csv\"\n",
        "\n",
        "dataset = pd.read_csv(data_dir, comment=\"#\")\n",
        "\n",
        "# División entre instancias y etiquetas\n",
        "X, y = dataset.iloc[:, 1:], dataset.TARGET\n",
        "\n",
        "# división entre entrenamiento y evaluación\n",
        "X_train, X_test, y_train, y_test = train_test_split(X, y, test_size=0.2, random_state=0)"
      ],
      "execution_count": 4,
      "outputs": []
    },
    {
      "cell_type": "markdown",
      "metadata": {
        "id": "5plZKw0uwAXQ",
        "colab_type": "text"
      },
      "source": [
        "\n",
        "Documentación:\n",
        "\n",
        "- https://scikit-learn.org/stable/modules/generated/sklearn.model_selection.train_test_split.html"
      ]
    },
    {
      "cell_type": "code",
      "metadata": {
        "id": "noqyYMTmwAXQ",
        "colab_type": "code",
        "colab": {
          "base_uri": "https://localhost:8080/",
          "height": 297
        },
        "outputId": "ac4a65be-2291-4374-e824-1d0dd7e3fe6c"
      },
      "source": [
        "dataset.describe()"
      ],
      "execution_count": 5,
      "outputs": [
        {
          "output_type": "execute_result",
          "data": {
            "text/html": [
              "<div>\n",
              "<style scoped>\n",
              "    .dataframe tbody tr th:only-of-type {\n",
              "        vertical-align: middle;\n",
              "    }\n",
              "\n",
              "    .dataframe tbody tr th {\n",
              "        vertical-align: top;\n",
              "    }\n",
              "\n",
              "    .dataframe thead th {\n",
              "        text-align: right;\n",
              "    }\n",
              "</style>\n",
              "<table border=\"1\" class=\"dataframe\">\n",
              "  <thead>\n",
              "    <tr style=\"text-align: right;\">\n",
              "      <th></th>\n",
              "      <th>TARGET</th>\n",
              "      <th>LOAN</th>\n",
              "      <th>MORTDUE</th>\n",
              "      <th>VALUE</th>\n",
              "      <th>YOJ</th>\n",
              "      <th>DEROG</th>\n",
              "      <th>DELINQ</th>\n",
              "      <th>CLAGE</th>\n",
              "      <th>NINQ</th>\n",
              "      <th>CLNO</th>\n",
              "      <th>DEBTINC</th>\n",
              "    </tr>\n",
              "  </thead>\n",
              "  <tbody>\n",
              "    <tr>\n",
              "      <th>count</th>\n",
              "      <td>1854.000000</td>\n",
              "      <td>1854.000000</td>\n",
              "      <td>1854.000000</td>\n",
              "      <td>1854.000000</td>\n",
              "      <td>1854.000000</td>\n",
              "      <td>1854.000000</td>\n",
              "      <td>1854.000000</td>\n",
              "      <td>1854.000000</td>\n",
              "      <td>1854.000000</td>\n",
              "      <td>1854.000000</td>\n",
              "      <td>1854.000000</td>\n",
              "    </tr>\n",
              "    <tr>\n",
              "      <th>mean</th>\n",
              "      <td>0.166667</td>\n",
              "      <td>19111.758360</td>\n",
              "      <td>76316.051780</td>\n",
              "      <td>107321.088457</td>\n",
              "      <td>8.900216</td>\n",
              "      <td>0.187702</td>\n",
              "      <td>0.319849</td>\n",
              "      <td>180.300783</td>\n",
              "      <td>1.128910</td>\n",
              "      <td>21.857066</td>\n",
              "      <td>34.573408</td>\n",
              "    </tr>\n",
              "    <tr>\n",
              "      <th>std</th>\n",
              "      <td>0.372779</td>\n",
              "      <td>11000.345961</td>\n",
              "      <td>46227.026585</td>\n",
              "      <td>56039.685066</td>\n",
              "      <td>7.552677</td>\n",
              "      <td>0.704882</td>\n",
              "      <td>0.928452</td>\n",
              "      <td>84.838308</td>\n",
              "      <td>1.664555</td>\n",
              "      <td>9.510840</td>\n",
              "      <td>9.308794</td>\n",
              "    </tr>\n",
              "    <tr>\n",
              "      <th>min</th>\n",
              "      <td>0.000000</td>\n",
              "      <td>1700.000000</td>\n",
              "      <td>5627.000000</td>\n",
              "      <td>21144.000000</td>\n",
              "      <td>0.000000</td>\n",
              "      <td>0.000000</td>\n",
              "      <td>0.000000</td>\n",
              "      <td>0.486711</td>\n",
              "      <td>0.000000</td>\n",
              "      <td>0.000000</td>\n",
              "      <td>0.838118</td>\n",
              "    </tr>\n",
              "    <tr>\n",
              "      <th>25%</th>\n",
              "      <td>0.000000</td>\n",
              "      <td>12000.000000</td>\n",
              "      <td>48984.750000</td>\n",
              "      <td>70787.250000</td>\n",
              "      <td>3.000000</td>\n",
              "      <td>0.000000</td>\n",
              "      <td>0.000000</td>\n",
              "      <td>116.970718</td>\n",
              "      <td>0.000000</td>\n",
              "      <td>16.000000</td>\n",
              "      <td>29.427210</td>\n",
              "    </tr>\n",
              "    <tr>\n",
              "      <th>50%</th>\n",
              "      <td>0.000000</td>\n",
              "      <td>17000.000000</td>\n",
              "      <td>67201.000000</td>\n",
              "      <td>94198.000000</td>\n",
              "      <td>7.000000</td>\n",
              "      <td>0.000000</td>\n",
              "      <td>0.000000</td>\n",
              "      <td>174.967815</td>\n",
              "      <td>1.000000</td>\n",
              "      <td>21.000000</td>\n",
              "      <td>35.363407</td>\n",
              "    </tr>\n",
              "    <tr>\n",
              "      <th>75%</th>\n",
              "      <td>0.000000</td>\n",
              "      <td>23900.000000</td>\n",
              "      <td>93731.500000</td>\n",
              "      <td>122976.250000</td>\n",
              "      <td>13.000000</td>\n",
              "      <td>0.000000</td>\n",
              "      <td>0.000000</td>\n",
              "      <td>232.261800</td>\n",
              "      <td>2.000000</td>\n",
              "      <td>27.000000</td>\n",
              "      <td>39.357987</td>\n",
              "    </tr>\n",
              "    <tr>\n",
              "      <th>max</th>\n",
              "      <td>1.000000</td>\n",
              "      <td>89800.000000</td>\n",
              "      <td>399412.000000</td>\n",
              "      <td>512650.000000</td>\n",
              "      <td>41.000000</td>\n",
              "      <td>10.000000</td>\n",
              "      <td>10.000000</td>\n",
              "      <td>1168.233561</td>\n",
              "      <td>13.000000</td>\n",
              "      <td>65.000000</td>\n",
              "      <td>144.189001</td>\n",
              "    </tr>\n",
              "  </tbody>\n",
              "</table>\n",
              "</div>"
            ],
            "text/plain": [
              "            TARGET          LOAN  ...         CLNO      DEBTINC\n",
              "count  1854.000000   1854.000000  ...  1854.000000  1854.000000\n",
              "mean      0.166667  19111.758360  ...    21.857066    34.573408\n",
              "std       0.372779  11000.345961  ...     9.510840     9.308794\n",
              "min       0.000000   1700.000000  ...     0.000000     0.838118\n",
              "25%       0.000000  12000.000000  ...    16.000000    29.427210\n",
              "50%       0.000000  17000.000000  ...    21.000000    35.363407\n",
              "75%       0.000000  23900.000000  ...    27.000000    39.357987\n",
              "max       1.000000  89800.000000  ...    65.000000   144.189001\n",
              "\n",
              "[8 rows x 11 columns]"
            ]
          },
          "metadata": {
            "tags": []
          },
          "execution_count": 5
        }
      ]
    },
    {
      "cell_type": "code",
      "metadata": {
        "id": "y8zPhqcAwAXV",
        "colab_type": "code",
        "colab": {
          "base_uri": "https://localhost:8080/",
          "height": 359
        },
        "outputId": "b1fd949c-8ffe-455f-c887-8e9101bc0378"
      },
      "source": [
        "dataset.sample(10)"
      ],
      "execution_count": 6,
      "outputs": [
        {
          "output_type": "execute_result",
          "data": {
            "text/html": [
              "<div>\n",
              "<style scoped>\n",
              "    .dataframe tbody tr th:only-of-type {\n",
              "        vertical-align: middle;\n",
              "    }\n",
              "\n",
              "    .dataframe tbody tr th {\n",
              "        vertical-align: top;\n",
              "    }\n",
              "\n",
              "    .dataframe thead th {\n",
              "        text-align: right;\n",
              "    }\n",
              "</style>\n",
              "<table border=\"1\" class=\"dataframe\">\n",
              "  <thead>\n",
              "    <tr style=\"text-align: right;\">\n",
              "      <th></th>\n",
              "      <th>TARGET</th>\n",
              "      <th>LOAN</th>\n",
              "      <th>MORTDUE</th>\n",
              "      <th>VALUE</th>\n",
              "      <th>YOJ</th>\n",
              "      <th>DEROG</th>\n",
              "      <th>DELINQ</th>\n",
              "      <th>CLAGE</th>\n",
              "      <th>NINQ</th>\n",
              "      <th>CLNO</th>\n",
              "      <th>DEBTINC</th>\n",
              "    </tr>\n",
              "  </thead>\n",
              "  <tbody>\n",
              "    <tr>\n",
              "      <th>1736</th>\n",
              "      <td>1</td>\n",
              "      <td>18700</td>\n",
              "      <td>66003.0</td>\n",
              "      <td>82410.0</td>\n",
              "      <td>0.0</td>\n",
              "      <td>1.0</td>\n",
              "      <td>0.0</td>\n",
              "      <td>85.773808</td>\n",
              "      <td>1.0</td>\n",
              "      <td>23.0</td>\n",
              "      <td>51.517385</td>\n",
              "    </tr>\n",
              "    <tr>\n",
              "      <th>1520</th>\n",
              "      <td>0</td>\n",
              "      <td>19300</td>\n",
              "      <td>33970.0</td>\n",
              "      <td>102792.0</td>\n",
              "      <td>6.0</td>\n",
              "      <td>0.0</td>\n",
              "      <td>0.0</td>\n",
              "      <td>145.020245</td>\n",
              "      <td>0.0</td>\n",
              "      <td>14.0</td>\n",
              "      <td>31.874217</td>\n",
              "    </tr>\n",
              "    <tr>\n",
              "      <th>722</th>\n",
              "      <td>0</td>\n",
              "      <td>22300</td>\n",
              "      <td>60513.0</td>\n",
              "      <td>111713.0</td>\n",
              "      <td>15.0</td>\n",
              "      <td>0.0</td>\n",
              "      <td>3.0</td>\n",
              "      <td>291.618720</td>\n",
              "      <td>1.0</td>\n",
              "      <td>35.0</td>\n",
              "      <td>27.705171</td>\n",
              "    </tr>\n",
              "    <tr>\n",
              "      <th>1009</th>\n",
              "      <td>0</td>\n",
              "      <td>10300</td>\n",
              "      <td>45275.0</td>\n",
              "      <td>62724.0</td>\n",
              "      <td>11.0</td>\n",
              "      <td>0.0</td>\n",
              "      <td>1.0</td>\n",
              "      <td>109.324639</td>\n",
              "      <td>3.0</td>\n",
              "      <td>34.0</td>\n",
              "      <td>37.291825</td>\n",
              "    </tr>\n",
              "    <tr>\n",
              "      <th>276</th>\n",
              "      <td>0</td>\n",
              "      <td>33000</td>\n",
              "      <td>54821.0</td>\n",
              "      <td>104724.0</td>\n",
              "      <td>1.0</td>\n",
              "      <td>0.0</td>\n",
              "      <td>0.0</td>\n",
              "      <td>164.300919</td>\n",
              "      <td>1.0</td>\n",
              "      <td>24.0</td>\n",
              "      <td>34.391907</td>\n",
              "    </tr>\n",
              "    <tr>\n",
              "      <th>450</th>\n",
              "      <td>0</td>\n",
              "      <td>19400</td>\n",
              "      <td>109812.0</td>\n",
              "      <td>172705.0</td>\n",
              "      <td>5.0</td>\n",
              "      <td>0.0</td>\n",
              "      <td>0.0</td>\n",
              "      <td>204.105415</td>\n",
              "      <td>3.0</td>\n",
              "      <td>23.0</td>\n",
              "      <td>43.338407</td>\n",
              "    </tr>\n",
              "    <tr>\n",
              "      <th>497</th>\n",
              "      <td>0</td>\n",
              "      <td>49300</td>\n",
              "      <td>40724.0</td>\n",
              "      <td>102546.0</td>\n",
              "      <td>6.0</td>\n",
              "      <td>0.0</td>\n",
              "      <td>0.0</td>\n",
              "      <td>211.449314</td>\n",
              "      <td>1.0</td>\n",
              "      <td>36.0</td>\n",
              "      <td>39.037679</td>\n",
              "    </tr>\n",
              "    <tr>\n",
              "      <th>141</th>\n",
              "      <td>0</td>\n",
              "      <td>11200</td>\n",
              "      <td>66868.0</td>\n",
              "      <td>107794.0</td>\n",
              "      <td>10.0</td>\n",
              "      <td>0.0</td>\n",
              "      <td>0.0</td>\n",
              "      <td>152.929828</td>\n",
              "      <td>1.0</td>\n",
              "      <td>12.0</td>\n",
              "      <td>39.640829</td>\n",
              "    </tr>\n",
              "    <tr>\n",
              "      <th>726</th>\n",
              "      <td>0</td>\n",
              "      <td>12400</td>\n",
              "      <td>26768.0</td>\n",
              "      <td>52411.0</td>\n",
              "      <td>0.0</td>\n",
              "      <td>0.0</td>\n",
              "      <td>0.0</td>\n",
              "      <td>253.318043</td>\n",
              "      <td>0.0</td>\n",
              "      <td>11.0</td>\n",
              "      <td>38.821021</td>\n",
              "    </tr>\n",
              "    <tr>\n",
              "      <th>263</th>\n",
              "      <td>0</td>\n",
              "      <td>15900</td>\n",
              "      <td>16744.0</td>\n",
              "      <td>52234.0</td>\n",
              "      <td>3.0</td>\n",
              "      <td>0.0</td>\n",
              "      <td>0.0</td>\n",
              "      <td>288.415950</td>\n",
              "      <td>0.0</td>\n",
              "      <td>16.0</td>\n",
              "      <td>17.452227</td>\n",
              "    </tr>\n",
              "  </tbody>\n",
              "</table>\n",
              "</div>"
            ],
            "text/plain": [
              "      TARGET   LOAN   MORTDUE     VALUE  ...       CLAGE  NINQ  CLNO    DEBTINC\n",
              "1736       1  18700   66003.0   82410.0  ...   85.773808   1.0  23.0  51.517385\n",
              "1520       0  19300   33970.0  102792.0  ...  145.020245   0.0  14.0  31.874217\n",
              "722        0  22300   60513.0  111713.0  ...  291.618720   1.0  35.0  27.705171\n",
              "1009       0  10300   45275.0   62724.0  ...  109.324639   3.0  34.0  37.291825\n",
              "276        0  33000   54821.0  104724.0  ...  164.300919   1.0  24.0  34.391907\n",
              "450        0  19400  109812.0  172705.0  ...  204.105415   3.0  23.0  43.338407\n",
              "497        0  49300   40724.0  102546.0  ...  211.449314   1.0  36.0  39.037679\n",
              "141        0  11200   66868.0  107794.0  ...  152.929828   1.0  12.0  39.640829\n",
              "726        0  12400   26768.0   52411.0  ...  253.318043   0.0  11.0  38.821021\n",
              "263        0  15900   16744.0   52234.0  ...  288.415950   0.0  16.0  17.452227\n",
              "\n",
              "[10 rows x 11 columns]"
            ]
          },
          "metadata": {
            "tags": []
          },
          "execution_count": 6
        }
      ]
    },
    {
      "cell_type": "markdown",
      "metadata": {
        "id": "QyBeeob5wAXX",
        "colab_type": "text"
      },
      "source": [
        "## Ejercicio 1: Descripción de los Datos y la Tarea\n",
        "\n",
        "Responder las siguientes preguntas:\n",
        "\n",
        "1. ¿De qué se trata el conjunto de datos?\n",
        "2. ¿Cuál es la variable objetivo que hay que predecir? ¿Qué significado tiene?\n",
        "3. ¿Qué información (atributos) hay disponible para hacer la predicción?\n",
        "4. ¿Qué atributos imagina ud. que son los más determinantes para la predicción?\n",
        "\n",
        "**No hace falta escribir código para responder estas preguntas.**"
      ]
    },
    {
      "cell_type": "markdown",
      "metadata": {
        "id": "RTlMByBiGaM3",
        "colab_type": "text"
      },
      "source": [
        "1. El conjunto de datos trata de una serie de préstamos otorgados por un Banco. Se dispone de la información de los distintos préstamos otorgados, clasificados como incumplidos o reembolsados, y los determinantes que explican ese incumplimiento o reembolso.\n",
        "2. La variable objetivo a predecir es la variable binaria \"TARGET\" que toma valor 1 en caso de que el préstamo sea incumplido y 0 si existe reembolso del mismo.\n",
        "3. Los atributos para determinar si existe incumplimiento o reembolso para cada uno de los préstamos (diferentes clientes) son:\n",
        "- LOAN: monto del préstamo solicitado\n",
        "- MORTDUE: monto adeudado de la hipoteca existente\n",
        "- VALUE: valor de la propiedad actual\n",
        "- YOJ: años en el trabajo actual\n",
        "- DEROG: número de informes despectivos importantes\n",
        "- DELINQ: número de lineas de crédito morosas\n",
        "- CLAGE: edad de la línea comercial más antigua en meses\n",
        "- NINQ Número de líneas de crédito recientes\n",
        "- CLNO Número de líneas de crédito\n",
        "- DEBTINC Relación deuda-ingresos\n",
        "4. Los atributos posiblemente más importantes son DELINQ y DEBTINC"
      ]
    },
    {
      "cell_type": "markdown",
      "metadata": {
        "id": "76yxhGl2wAXY",
        "colab_type": "text"
      },
      "source": [
        "## Ejercicio 2: Predicción con Modelos Lineales\n",
        "\n",
        "En este ejercicio se entrenarán modelos lineales de clasificación para predecir la variable objetivo.\n",
        "\n",
        "Para ello, deberán utilizar la clase SGDClassifier de scikit-learn.\n",
        "\n",
        "Documentación:\n",
        "- https://scikit-learn.org/stable/modules/sgd.html\n",
        "- https://scikit-learn.org/stable/modules/generated/sklearn.linear_model.SGDClassifier.html\n"
      ]
    },
    {
      "cell_type": "code",
      "metadata": {
        "id": "0w0mwZ9gwAXZ",
        "colab_type": "code",
        "colab": {}
      },
      "source": [
        "# Estandarizar atributos para mejorar resultados\n",
        "scaler = StandardScaler()\n",
        "scaler.fit(X_train)\n",
        "X_train = scaler.transform(X_train)\n",
        "X_test = scaler.transform(X_test)"
      ],
      "execution_count": 7,
      "outputs": []
    },
    {
      "cell_type": "markdown",
      "metadata": {
        "id": "hxv06NwpwAXg",
        "colab_type": "text"
      },
      "source": [
        "### Ejercicio 2.1: SGDClassifier con hiperparámetros por defecto\n",
        "\n",
        "Entrenar y evaluar el clasificador SGDClassifier usando los valores por omisión de scikit-learn para todos los parámetros. Únicamente **fijar la semilla aleatoria** para hacer repetible el experimento.\n",
        "\n",
        "Evaluar sobre el conjunto de **entrenamiento** y sobre el conjunto de **evaluación**, reportando:\n",
        "- Accuracy\n",
        "- Precision\n",
        "- Recall\n",
        "- F1\n",
        "- matriz de confusión"
      ]
    },
    {
      "cell_type": "code",
      "metadata": {
        "id": "qj2MRRc6wAXh",
        "colab_type": "code",
        "colab": {}
      },
      "source": [
        "# Entrenamiento\n",
        "sgd_model_base = SGDClassifier(random_state=0)\n",
        "sgd_model_base.fit(X_train, y_train);"
      ],
      "execution_count": 8,
      "outputs": []
    },
    {
      "cell_type": "code",
      "metadata": {
        "id": "khlz1JhmwAXk",
        "colab_type": "code",
        "colab": {}
      },
      "source": [
        "# Predicciones\n",
        "y_train_pred_sgd_base = sgd_model_base.predict(X_train)\n",
        "y_test_pred_sgd_base = sgd_model_base.predict(X_test)"
      ],
      "execution_count": 9,
      "outputs": []
    },
    {
      "cell_type": "markdown",
      "metadata": {
        "id": "MuqtQo_fwAXm",
        "colab_type": "text"
      },
      "source": [
        "#### Métricas sobre conjunto de entrenamiento"
      ]
    },
    {
      "cell_type": "code",
      "metadata": {
        "id": "M-Rtk8IAwAXn",
        "colab_type": "code",
        "colab": {
          "base_uri": "https://localhost:8080/",
          "height": 80
        },
        "outputId": "02c7bb73-890c-44e4-921f-62bfe6ab6cdf"
      },
      "source": [
        "metrics_sgd_base_train = get_metrics(y_train, y_train_pred_sgd_base)\n",
        "\n",
        "metrics_sgd_base_train"
      ],
      "execution_count": 10,
      "outputs": [
        {
          "output_type": "execute_result",
          "data": {
            "text/html": [
              "<div>\n",
              "<style scoped>\n",
              "    .dataframe tbody tr th:only-of-type {\n",
              "        vertical-align: middle;\n",
              "    }\n",
              "\n",
              "    .dataframe tbody tr th {\n",
              "        vertical-align: top;\n",
              "    }\n",
              "\n",
              "    .dataframe thead th {\n",
              "        text-align: right;\n",
              "    }\n",
              "</style>\n",
              "<table border=\"1\" class=\"dataframe\">\n",
              "  <thead>\n",
              "    <tr style=\"text-align: right;\">\n",
              "      <th></th>\n",
              "      <th>Accuracy</th>\n",
              "      <th>Precision</th>\n",
              "      <th>Recall</th>\n",
              "      <th>F1-Score</th>\n",
              "    </tr>\n",
              "  </thead>\n",
              "  <tbody>\n",
              "    <tr>\n",
              "      <th>0</th>\n",
              "      <td>87.32%</td>\n",
              "      <td>71.43%</td>\n",
              "      <td>41.83%</td>\n",
              "      <td>52.76%</td>\n",
              "    </tr>\n",
              "  </tbody>\n",
              "</table>\n",
              "</div>"
            ],
            "text/plain": [
              "  Accuracy Precision  Recall F1-Score\n",
              "0   87.32%    71.43%  41.83%   52.76%"
            ]
          },
          "metadata": {
            "tags": []
          },
          "execution_count": 10
        }
      ]
    },
    {
      "cell_type": "code",
      "metadata": {
        "id": "yV6OyS0-wAXq",
        "colab_type": "code",
        "colab": {
          "base_uri": "https://localhost:8080/",
          "height": 142
        },
        "outputId": "46348471-657d-476c-de7c-a47519b4032f"
      },
      "source": [
        "get_confusion_matrix(y_train, y_train_pred_sgd_base)"
      ],
      "execution_count": 11,
      "outputs": [
        {
          "output_type": "execute_result",
          "data": {
            "text/html": [
              "<div>\n",
              "<style scoped>\n",
              "    .dataframe tbody tr th:only-of-type {\n",
              "        vertical-align: middle;\n",
              "    }\n",
              "\n",
              "    .dataframe tbody tr th {\n",
              "        vertical-align: top;\n",
              "    }\n",
              "\n",
              "    .dataframe thead th {\n",
              "        text-align: right;\n",
              "    }\n",
              "</style>\n",
              "<table border=\"1\" class=\"dataframe\">\n",
              "  <thead>\n",
              "    <tr style=\"text-align: right;\">\n",
              "      <th></th>\n",
              "      <th>Actual - Repaid</th>\n",
              "      <th>Actual - Default</th>\n",
              "      <th>Total</th>\n",
              "    </tr>\n",
              "  </thead>\n",
              "  <tbody>\n",
              "    <tr>\n",
              "      <th>Predicted - Repaid</th>\n",
              "      <td>1190</td>\n",
              "      <td>42</td>\n",
              "      <td>1232</td>\n",
              "    </tr>\n",
              "    <tr>\n",
              "      <th>Predicted - Default</th>\n",
              "      <td>146</td>\n",
              "      <td>105</td>\n",
              "      <td>251</td>\n",
              "    </tr>\n",
              "    <tr>\n",
              "      <th>Total</th>\n",
              "      <td>1336</td>\n",
              "      <td>147</td>\n",
              "      <td>1483</td>\n",
              "    </tr>\n",
              "  </tbody>\n",
              "</table>\n",
              "</div>"
            ],
            "text/plain": [
              "                     Actual - Repaid  Actual - Default  Total\n",
              "Predicted - Repaid              1190                42   1232\n",
              "Predicted - Default              146               105    251\n",
              "Total                           1336               147   1483"
            ]
          },
          "metadata": {
            "tags": []
          },
          "execution_count": 11
        }
      ]
    },
    {
      "cell_type": "markdown",
      "metadata": {
        "id": "-EcOznPpwAXu",
        "colab_type": "text"
      },
      "source": [
        "#### Métricas sobre conjunto de evaluación"
      ]
    },
    {
      "cell_type": "code",
      "metadata": {
        "id": "EcwFUTl9wAXw",
        "colab_type": "code",
        "colab": {
          "base_uri": "https://localhost:8080/",
          "height": 80
        },
        "outputId": "62a1c74f-4b4f-4a4f-ad01-ab48a16baaf0"
      },
      "source": [
        "metrics_sgd_base_test = get_metrics(y_test, y_test_pred_sgd_base)\n",
        "\n",
        "metrics_sgd_base_test"
      ],
      "execution_count": 12,
      "outputs": [
        {
          "output_type": "execute_result",
          "data": {
            "text/html": [
              "<div>\n",
              "<style scoped>\n",
              "    .dataframe tbody tr th:only-of-type {\n",
              "        vertical-align: middle;\n",
              "    }\n",
              "\n",
              "    .dataframe tbody tr th {\n",
              "        vertical-align: top;\n",
              "    }\n",
              "\n",
              "    .dataframe thead th {\n",
              "        text-align: right;\n",
              "    }\n",
              "</style>\n",
              "<table border=\"1\" class=\"dataframe\">\n",
              "  <thead>\n",
              "    <tr style=\"text-align: right;\">\n",
              "      <th></th>\n",
              "      <th>Accuracy</th>\n",
              "      <th>Precision</th>\n",
              "      <th>Recall</th>\n",
              "      <th>F1-Score</th>\n",
              "    </tr>\n",
              "  </thead>\n",
              "  <tbody>\n",
              "    <tr>\n",
              "      <th>0</th>\n",
              "      <td>86.79%</td>\n",
              "      <td>64.52%</td>\n",
              "      <td>34.48%</td>\n",
              "      <td>44.94%</td>\n",
              "    </tr>\n",
              "  </tbody>\n",
              "</table>\n",
              "</div>"
            ],
            "text/plain": [
              "  Accuracy Precision  Recall F1-Score\n",
              "0   86.79%    64.52%  34.48%   44.94%"
            ]
          },
          "metadata": {
            "tags": []
          },
          "execution_count": 12
        }
      ]
    },
    {
      "cell_type": "code",
      "metadata": {
        "id": "LocbvYxpwAX0",
        "colab_type": "code",
        "colab": {
          "base_uri": "https://localhost:8080/",
          "height": 142
        },
        "outputId": "f8e8d9b4-5d61-40cc-f9ad-3b6d49bb391f"
      },
      "source": [
        "get_confusion_matrix(y_test, y_test_pred_sgd_base)"
      ],
      "execution_count": 13,
      "outputs": [
        {
          "output_type": "execute_result",
          "data": {
            "text/html": [
              "<div>\n",
              "<style scoped>\n",
              "    .dataframe tbody tr th:only-of-type {\n",
              "        vertical-align: middle;\n",
              "    }\n",
              "\n",
              "    .dataframe tbody tr th {\n",
              "        vertical-align: top;\n",
              "    }\n",
              "\n",
              "    .dataframe thead th {\n",
              "        text-align: right;\n",
              "    }\n",
              "</style>\n",
              "<table border=\"1\" class=\"dataframe\">\n",
              "  <thead>\n",
              "    <tr style=\"text-align: right;\">\n",
              "      <th></th>\n",
              "      <th>Actual - Repaid</th>\n",
              "      <th>Actual - Default</th>\n",
              "      <th>Total</th>\n",
              "    </tr>\n",
              "  </thead>\n",
              "  <tbody>\n",
              "    <tr>\n",
              "      <th>Predicted - Repaid</th>\n",
              "      <td>302</td>\n",
              "      <td>11</td>\n",
              "      <td>313</td>\n",
              "    </tr>\n",
              "    <tr>\n",
              "      <th>Predicted - Default</th>\n",
              "      <td>38</td>\n",
              "      <td>20</td>\n",
              "      <td>58</td>\n",
              "    </tr>\n",
              "    <tr>\n",
              "      <th>Total</th>\n",
              "      <td>340</td>\n",
              "      <td>31</td>\n",
              "      <td>371</td>\n",
              "    </tr>\n",
              "  </tbody>\n",
              "</table>\n",
              "</div>"
            ],
            "text/plain": [
              "                     Actual - Repaid  Actual - Default  Total\n",
              "Predicted - Repaid               302                11    313\n",
              "Predicted - Default               38                20     58\n",
              "Total                            340                31    371"
            ]
          },
          "metadata": {
            "tags": []
          },
          "execution_count": 13
        }
      ]
    },
    {
      "cell_type": "markdown",
      "metadata": {
        "id": "ELmgmYn3wAX3",
        "colab_type": "text"
      },
      "source": [
        "### Ejercicio 2.2: Ajuste de Hiperparámetros\n",
        "\n",
        "Seleccionar valores para los hiperparámetros principales del SGDClassifier. Como mínimo, probar diferentes funciones de loss, tasas de entrenamiento y tasas de regularización.\n",
        "\n",
        "Para ello, usar grid-search y 5-fold cross-validation sobre el conjunto de entrenamiento para explorar muchas combinaciones posibles de valores.\n",
        "\n",
        "Reportar accuracy promedio y varianza para todas las configuraciones.\n",
        "\n",
        "Para la mejor configuración encontrada, evaluar sobre el conjunto de **entrenamiento** y sobre el conjunto de **evaluación**, reportando:\n",
        "- Accuracy\n",
        "- Precision\n",
        "- Recall\n",
        "- F1\n",
        "- matriz de confusión\n",
        "\n",
        "Documentación:\n",
        "- https://scikit-learn.org/stable/modules/grid_search.html\n",
        "- https://scikit-learn.org/stable/modules/generated/sklearn.model_selection.GridSearchCV.html"
      ]
    },
    {
      "cell_type": "code",
      "metadata": {
        "id": "9RalgR5NwAX3",
        "colab_type": "code",
        "colab": {}
      },
      "source": [
        "# Lista de diferentes valores para los parámetros\n",
        "# Hacemos dos diccionarios de parámetros porque learning_rate='optimal' acepta eta0=0.0, únicamente\n",
        "param_grid_sgd = [\n",
        "    {\n",
        "        'loss': ['hinge', 'log', 'modified_huber', 'squared_hinge', 'perceptron'],\n",
        "        'penalty': ['l2', 'l1', 'elasticnet'],\n",
        "        'learning_rate': ['constant', 'invscaling', 'adaptive'],\n",
        "        'alpha': [1e-4, 1e-3, 1e-2, 1e-1, 1e0, 1e1, 1e2, 1e3],\n",
        "        'eta0': [1e-4, 1e-3, 1e-2, 1e-1, 1e0, 1e1, 1e2, 1e3]\n",
        "    },\n",
        "    {\n",
        "        'loss': ['hinge', 'log', 'modified_huber', 'squared_hinge', 'perceptron'],\n",
        "        'penalty': ['l2', 'l1', 'elasticnet'],\n",
        "        'learning_rate': ['optimal'],\n",
        "        'alpha': [1e-4, 1e-3, 1e-2, 1e-1, 1e0, 1e1, 1e2, 1e3],\n",
        "    }\n",
        "]"
      ],
      "execution_count": 14,
      "outputs": []
    },
    {
      "cell_type": "code",
      "metadata": {
        "id": "easL-XAHwAX6",
        "colab_type": "code",
        "colab": {
          "base_uri": "https://localhost:8080/",
          "height": 442
        },
        "outputId": "6c08e4a9-8b29-4699-ed73-79206a4fd8a2"
      },
      "source": [
        "sgd_model_gscv = SGDClassifier(random_state=0, max_iter=2000)\n",
        "\n",
        "sgd_cv = GridSearchCV(sgd_model_gscv, param_grid_sgd, scoring='accuracy', cv=5)\n",
        "sgd_cv.fit(X_train, y_train)"
      ],
      "execution_count": 15,
      "outputs": [
        {
          "output_type": "stream",
          "text": [
            "/usr/local/lib/python3.6/dist-packages/sklearn/linear_model/_stochastic_gradient.py:557: ConvergenceWarning: Maximum number of iteration reached before convergence. Consider increasing max_iter to improve the fit.\n",
            "  ConvergenceWarning)\n",
            "/usr/local/lib/python3.6/dist-packages/sklearn/linear_model/_stochastic_gradient.py:557: ConvergenceWarning: Maximum number of iteration reached before convergence. Consider increasing max_iter to improve the fit.\n",
            "  ConvergenceWarning)\n"
          ],
          "name": "stderr"
        },
        {
          "output_type": "execute_result",
          "data": {
            "text/plain": [
              "GridSearchCV(cv=5, error_score=nan,\n",
              "             estimator=SGDClassifier(alpha=0.0001, average=False,\n",
              "                                     class_weight=None, early_stopping=False,\n",
              "                                     epsilon=0.1, eta0=0.0, fit_intercept=True,\n",
              "                                     l1_ratio=0.15, learning_rate='optimal',\n",
              "                                     loss='hinge', max_iter=2000,\n",
              "                                     n_iter_no_change=5, n_jobs=None,\n",
              "                                     penalty='l2', power_t=0.5, random_state=0,\n",
              "                                     shuffle=True, tol=0.001,\n",
              "                                     validation_fraction=0.1, ver...\n",
              "                          'loss': ['hinge', 'log', 'modified_huber',\n",
              "                                   'squared_hinge', 'perceptron'],\n",
              "                          'penalty': ['l2', 'l1', 'elasticnet']},\n",
              "                         {'alpha': [0.0001, 0.001, 0.01, 0.1, 1.0, 10.0, 100.0,\n",
              "                                    1000.0],\n",
              "                          'learning_rate': ['optimal'],\n",
              "                          'loss': ['hinge', 'log', 'modified_huber',\n",
              "                                   'squared_hinge', 'perceptron'],\n",
              "                          'penalty': ['l2', 'l1', 'elasticnet']}],\n",
              "             pre_dispatch='2*n_jobs', refit=True, return_train_score=False,\n",
              "             scoring='accuracy', verbose=0)"
            ]
          },
          "metadata": {
            "tags": []
          },
          "execution_count": 15
        }
      ]
    },
    {
      "cell_type": "code",
      "metadata": {
        "id": "QBRHoaxUwAX8",
        "colab_type": "code",
        "colab": {
          "base_uri": "https://localhost:8080/",
          "height": 306
        },
        "outputId": "274f9852-d42b-41e0-fd9d-f14f21febfb7"
      },
      "source": [
        "results_sgd = pd.DataFrame(sgd_cv.cv_results_)\n",
        "results_sgd = results_sgd.sort_values(by=['rank_test_score'], ascending=True).reset_index(drop=True)\n",
        "\n",
        "print('Resultados de GridSearch Cross-Validation:\\n')\n",
        "results_sgd.head(5)"
      ],
      "execution_count": 16,
      "outputs": [
        {
          "output_type": "stream",
          "text": [
            "Resultados de GridSearch Cross-Validation:\n",
            "\n"
          ],
          "name": "stdout"
        },
        {
          "output_type": "execute_result",
          "data": {
            "text/html": [
              "<div>\n",
              "<style scoped>\n",
              "    .dataframe tbody tr th:only-of-type {\n",
              "        vertical-align: middle;\n",
              "    }\n",
              "\n",
              "    .dataframe tbody tr th {\n",
              "        vertical-align: top;\n",
              "    }\n",
              "\n",
              "    .dataframe thead th {\n",
              "        text-align: right;\n",
              "    }\n",
              "</style>\n",
              "<table border=\"1\" class=\"dataframe\">\n",
              "  <thead>\n",
              "    <tr style=\"text-align: right;\">\n",
              "      <th></th>\n",
              "      <th>mean_fit_time</th>\n",
              "      <th>std_fit_time</th>\n",
              "      <th>mean_score_time</th>\n",
              "      <th>std_score_time</th>\n",
              "      <th>param_alpha</th>\n",
              "      <th>param_eta0</th>\n",
              "      <th>param_learning_rate</th>\n",
              "      <th>param_loss</th>\n",
              "      <th>param_penalty</th>\n",
              "      <th>params</th>\n",
              "      <th>split0_test_score</th>\n",
              "      <th>split1_test_score</th>\n",
              "      <th>split2_test_score</th>\n",
              "      <th>split3_test_score</th>\n",
              "      <th>split4_test_score</th>\n",
              "      <th>mean_test_score</th>\n",
              "      <th>std_test_score</th>\n",
              "      <th>rank_test_score</th>\n",
              "    </tr>\n",
              "  </thead>\n",
              "  <tbody>\n",
              "    <tr>\n",
              "      <th>0</th>\n",
              "      <td>0.006573</td>\n",
              "      <td>0.000345</td>\n",
              "      <td>0.000709</td>\n",
              "      <td>0.000052</td>\n",
              "      <td>0.01</td>\n",
              "      <td>1</td>\n",
              "      <td>adaptive</td>\n",
              "      <td>hinge</td>\n",
              "      <td>l2</td>\n",
              "      <td>{'alpha': 0.01, 'eta0': 1.0, 'learning_rate': ...</td>\n",
              "      <td>0.882155</td>\n",
              "      <td>0.861953</td>\n",
              "      <td>0.865320</td>\n",
              "      <td>0.881757</td>\n",
              "      <td>0.864865</td>\n",
              "      <td>0.871210</td>\n",
              "      <td>0.008851</td>\n",
              "      <td>1</td>\n",
              "    </tr>\n",
              "    <tr>\n",
              "      <th>1</th>\n",
              "      <td>0.012676</td>\n",
              "      <td>0.000609</td>\n",
              "      <td>0.000680</td>\n",
              "      <td>0.000029</td>\n",
              "      <td>0.001</td>\n",
              "      <td>100</td>\n",
              "      <td>adaptive</td>\n",
              "      <td>hinge</td>\n",
              "      <td>l1</td>\n",
              "      <td>{'alpha': 0.001, 'eta0': 100.0, 'learning_rate...</td>\n",
              "      <td>0.882155</td>\n",
              "      <td>0.861953</td>\n",
              "      <td>0.868687</td>\n",
              "      <td>0.881757</td>\n",
              "      <td>0.861486</td>\n",
              "      <td>0.871208</td>\n",
              "      <td>0.009139</td>\n",
              "      <td>2</td>\n",
              "    </tr>\n",
              "    <tr>\n",
              "      <th>2</th>\n",
              "      <td>0.011056</td>\n",
              "      <td>0.000999</td>\n",
              "      <td>0.000717</td>\n",
              "      <td>0.000022</td>\n",
              "      <td>0.001</td>\n",
              "      <td>1</td>\n",
              "      <td>adaptive</td>\n",
              "      <td>hinge</td>\n",
              "      <td>elasticnet</td>\n",
              "      <td>{'alpha': 0.001, 'eta0': 1.0, 'learning_rate':...</td>\n",
              "      <td>0.882155</td>\n",
              "      <td>0.861953</td>\n",
              "      <td>0.868687</td>\n",
              "      <td>0.881757</td>\n",
              "      <td>0.861486</td>\n",
              "      <td>0.871208</td>\n",
              "      <td>0.009139</td>\n",
              "      <td>2</td>\n",
              "    </tr>\n",
              "    <tr>\n",
              "      <th>3</th>\n",
              "      <td>0.010217</td>\n",
              "      <td>0.000524</td>\n",
              "      <td>0.000743</td>\n",
              "      <td>0.000113</td>\n",
              "      <td>0.001</td>\n",
              "      <td>1</td>\n",
              "      <td>adaptive</td>\n",
              "      <td>hinge</td>\n",
              "      <td>l1</td>\n",
              "      <td>{'alpha': 0.001, 'eta0': 1.0, 'learning_rate':...</td>\n",
              "      <td>0.882155</td>\n",
              "      <td>0.861953</td>\n",
              "      <td>0.868687</td>\n",
              "      <td>0.881757</td>\n",
              "      <td>0.861486</td>\n",
              "      <td>0.871208</td>\n",
              "      <td>0.009139</td>\n",
              "      <td>2</td>\n",
              "    </tr>\n",
              "    <tr>\n",
              "      <th>4</th>\n",
              "      <td>0.020742</td>\n",
              "      <td>0.002130</td>\n",
              "      <td>0.000706</td>\n",
              "      <td>0.000041</td>\n",
              "      <td>0.001</td>\n",
              "      <td>1</td>\n",
              "      <td>adaptive</td>\n",
              "      <td>log</td>\n",
              "      <td>elasticnet</td>\n",
              "      <td>{'alpha': 0.001, 'eta0': 1.0, 'learning_rate':...</td>\n",
              "      <td>0.865320</td>\n",
              "      <td>0.868687</td>\n",
              "      <td>0.868687</td>\n",
              "      <td>0.891892</td>\n",
              "      <td>0.858108</td>\n",
              "      <td>0.870539</td>\n",
              "      <td>0.011354</td>\n",
              "      <td>5</td>\n",
              "    </tr>\n",
              "  </tbody>\n",
              "</table>\n",
              "</div>"
            ],
            "text/plain": [
              "   mean_fit_time  std_fit_time  ...  std_test_score  rank_test_score\n",
              "0       0.006573      0.000345  ...        0.008851                1\n",
              "1       0.012676      0.000609  ...        0.009139                2\n",
              "2       0.011056      0.000999  ...        0.009139                2\n",
              "3       0.010217      0.000524  ...        0.009139                2\n",
              "4       0.020742      0.002130  ...        0.011354                5\n",
              "\n",
              "[5 rows x 18 columns]"
            ]
          },
          "metadata": {
            "tags": []
          },
          "execution_count": 16
        }
      ]
    },
    {
      "cell_type": "code",
      "metadata": {
        "id": "2hvQ5kMLwAYD",
        "colab_type": "code",
        "colab": {
          "base_uri": "https://localhost:8080/",
          "height": 136
        },
        "outputId": "de3ef569-a089-4ba1-fdf5-8dfb06b4cec0"
      },
      "source": [
        "best_params_sgd = results_sgd.loc[0, 'params']\n",
        "\n",
        "print('Mejores parámetros:\\n')\n",
        "best_params_sgd"
      ],
      "execution_count": 17,
      "outputs": [
        {
          "output_type": "stream",
          "text": [
            "Mejores parámetros:\n",
            "\n"
          ],
          "name": "stdout"
        },
        {
          "output_type": "execute_result",
          "data": {
            "text/plain": [
              "{'alpha': 0.01,\n",
              " 'eta0': 1.0,\n",
              " 'learning_rate': 'adaptive',\n",
              " 'loss': 'hinge',\n",
              " 'penalty': 'l2'}"
            ]
          },
          "metadata": {
            "tags": []
          },
          "execution_count": 17
        }
      ]
    },
    {
      "cell_type": "code",
      "metadata": {
        "id": "XRUkyx_4wAYG",
        "colab_type": "code",
        "colab": {}
      },
      "source": [
        "# Entrenamiento\n",
        "sgd_model_opt = SGDClassifier(**best_params_sgd, random_state=0)\n",
        "sgd_model_opt.fit(X_train, y_train);"
      ],
      "execution_count": 18,
      "outputs": []
    },
    {
      "cell_type": "code",
      "metadata": {
        "id": "u28qMUyNwAYI",
        "colab_type": "code",
        "colab": {}
      },
      "source": [
        "# Predicciones\n",
        "y_train_pred_sgd_opt = sgd_model_opt.predict(X_train)\n",
        "y_test_pred_sgd_opt = sgd_model_opt.predict(X_test)"
      ],
      "execution_count": 19,
      "outputs": []
    },
    {
      "cell_type": "markdown",
      "metadata": {
        "id": "WrOMSJinwAYS",
        "colab_type": "text"
      },
      "source": [
        "#### Métricas sobre conjunto de entrenamiento"
      ]
    },
    {
      "cell_type": "code",
      "metadata": {
        "id": "T87RpNqewAYS",
        "colab_type": "code",
        "colab": {
          "base_uri": "https://localhost:8080/",
          "height": 80
        },
        "outputId": "3f26304b-61fd-443f-8887-b5b21e2690ab"
      },
      "source": [
        "metrics_sgd_opt_train = get_metrics(y_train, y_train_pred_sgd_opt)\n",
        "\n",
        "metrics_sgd_opt_train"
      ],
      "execution_count": 20,
      "outputs": [
        {
          "output_type": "execute_result",
          "data": {
            "text/html": [
              "<div>\n",
              "<style scoped>\n",
              "    .dataframe tbody tr th:only-of-type {\n",
              "        vertical-align: middle;\n",
              "    }\n",
              "\n",
              "    .dataframe tbody tr th {\n",
              "        vertical-align: top;\n",
              "    }\n",
              "\n",
              "    .dataframe thead th {\n",
              "        text-align: right;\n",
              "    }\n",
              "</style>\n",
              "<table border=\"1\" class=\"dataframe\">\n",
              "  <thead>\n",
              "    <tr style=\"text-align: right;\">\n",
              "      <th></th>\n",
              "      <th>Accuracy</th>\n",
              "      <th>Precision</th>\n",
              "      <th>Recall</th>\n",
              "      <th>F1-Score</th>\n",
              "    </tr>\n",
              "  </thead>\n",
              "  <tbody>\n",
              "    <tr>\n",
              "      <th>0</th>\n",
              "      <td>87.32%</td>\n",
              "      <td>92.00%</td>\n",
              "      <td>27.49%</td>\n",
              "      <td>42.33%</td>\n",
              "    </tr>\n",
              "  </tbody>\n",
              "</table>\n",
              "</div>"
            ],
            "text/plain": [
              "  Accuracy Precision  Recall F1-Score\n",
              "0   87.32%    92.00%  27.49%   42.33%"
            ]
          },
          "metadata": {
            "tags": []
          },
          "execution_count": 20
        }
      ]
    },
    {
      "cell_type": "code",
      "metadata": {
        "id": "8hyryJbNwAYV",
        "colab_type": "code",
        "colab": {
          "base_uri": "https://localhost:8080/",
          "height": 142
        },
        "outputId": "8fa41360-0528-4edf-e3f2-4ed93dfc8a3b"
      },
      "source": [
        "get_confusion_matrix(y_train, y_train_pred_sgd_opt)"
      ],
      "execution_count": 21,
      "outputs": [
        {
          "output_type": "execute_result",
          "data": {
            "text/html": [
              "<div>\n",
              "<style scoped>\n",
              "    .dataframe tbody tr th:only-of-type {\n",
              "        vertical-align: middle;\n",
              "    }\n",
              "\n",
              "    .dataframe tbody tr th {\n",
              "        vertical-align: top;\n",
              "    }\n",
              "\n",
              "    .dataframe thead th {\n",
              "        text-align: right;\n",
              "    }\n",
              "</style>\n",
              "<table border=\"1\" class=\"dataframe\">\n",
              "  <thead>\n",
              "    <tr style=\"text-align: right;\">\n",
              "      <th></th>\n",
              "      <th>Actual - Repaid</th>\n",
              "      <th>Actual - Default</th>\n",
              "      <th>Total</th>\n",
              "    </tr>\n",
              "  </thead>\n",
              "  <tbody>\n",
              "    <tr>\n",
              "      <th>Predicted - Repaid</th>\n",
              "      <td>1226</td>\n",
              "      <td>6</td>\n",
              "      <td>1232</td>\n",
              "    </tr>\n",
              "    <tr>\n",
              "      <th>Predicted - Default</th>\n",
              "      <td>182</td>\n",
              "      <td>69</td>\n",
              "      <td>251</td>\n",
              "    </tr>\n",
              "    <tr>\n",
              "      <th>Total</th>\n",
              "      <td>1408</td>\n",
              "      <td>75</td>\n",
              "      <td>1483</td>\n",
              "    </tr>\n",
              "  </tbody>\n",
              "</table>\n",
              "</div>"
            ],
            "text/plain": [
              "                     Actual - Repaid  Actual - Default  Total\n",
              "Predicted - Repaid              1226                 6   1232\n",
              "Predicted - Default              182                69    251\n",
              "Total                           1408                75   1483"
            ]
          },
          "metadata": {
            "tags": []
          },
          "execution_count": 21
        }
      ]
    },
    {
      "cell_type": "markdown",
      "metadata": {
        "id": "qA5WrCIpwAYX",
        "colab_type": "text"
      },
      "source": [
        "#### Métricas sobre conjunto de evaluación"
      ]
    },
    {
      "cell_type": "code",
      "metadata": {
        "id": "T7twmqmzwAYY",
        "colab_type": "code",
        "colab": {
          "base_uri": "https://localhost:8080/",
          "height": 80
        },
        "outputId": "999c7072-503e-4ddd-9c53-948813e4894f"
      },
      "source": [
        "metrics_sgd_opt_test = get_metrics(y_test, y_test_pred_sgd_opt)\n",
        "\n",
        "metrics_sgd_opt_test"
      ],
      "execution_count": 22,
      "outputs": [
        {
          "output_type": "execute_result",
          "data": {
            "text/html": [
              "<div>\n",
              "<style scoped>\n",
              "    .dataframe tbody tr th:only-of-type {\n",
              "        vertical-align: middle;\n",
              "    }\n",
              "\n",
              "    .dataframe tbody tr th {\n",
              "        vertical-align: top;\n",
              "    }\n",
              "\n",
              "    .dataframe thead th {\n",
              "        text-align: right;\n",
              "    }\n",
              "</style>\n",
              "<table border=\"1\" class=\"dataframe\">\n",
              "  <thead>\n",
              "    <tr style=\"text-align: right;\">\n",
              "      <th></th>\n",
              "      <th>Accuracy</th>\n",
              "      <th>Precision</th>\n",
              "      <th>Recall</th>\n",
              "      <th>F1-Score</th>\n",
              "    </tr>\n",
              "  </thead>\n",
              "  <tbody>\n",
              "    <tr>\n",
              "      <th>0</th>\n",
              "      <td>88.41%</td>\n",
              "      <td>94.12%</td>\n",
              "      <td>27.59%</td>\n",
              "      <td>42.67%</td>\n",
              "    </tr>\n",
              "  </tbody>\n",
              "</table>\n",
              "</div>"
            ],
            "text/plain": [
              "  Accuracy Precision  Recall F1-Score\n",
              "0   88.41%    94.12%  27.59%   42.67%"
            ]
          },
          "metadata": {
            "tags": []
          },
          "execution_count": 22
        }
      ]
    },
    {
      "cell_type": "code",
      "metadata": {
        "id": "ugHdQKAUwAYa",
        "colab_type": "code",
        "colab": {
          "base_uri": "https://localhost:8080/",
          "height": 142
        },
        "outputId": "84984311-ab6a-489c-8d8c-7a3f7e91280b"
      },
      "source": [
        "get_confusion_matrix(y_test, y_test_pred_sgd_opt)"
      ],
      "execution_count": 23,
      "outputs": [
        {
          "output_type": "execute_result",
          "data": {
            "text/html": [
              "<div>\n",
              "<style scoped>\n",
              "    .dataframe tbody tr th:only-of-type {\n",
              "        vertical-align: middle;\n",
              "    }\n",
              "\n",
              "    .dataframe tbody tr th {\n",
              "        vertical-align: top;\n",
              "    }\n",
              "\n",
              "    .dataframe thead th {\n",
              "        text-align: right;\n",
              "    }\n",
              "</style>\n",
              "<table border=\"1\" class=\"dataframe\">\n",
              "  <thead>\n",
              "    <tr style=\"text-align: right;\">\n",
              "      <th></th>\n",
              "      <th>Actual - Repaid</th>\n",
              "      <th>Actual - Default</th>\n",
              "      <th>Total</th>\n",
              "    </tr>\n",
              "  </thead>\n",
              "  <tbody>\n",
              "    <tr>\n",
              "      <th>Predicted - Repaid</th>\n",
              "      <td>312</td>\n",
              "      <td>1</td>\n",
              "      <td>313</td>\n",
              "    </tr>\n",
              "    <tr>\n",
              "      <th>Predicted - Default</th>\n",
              "      <td>42</td>\n",
              "      <td>16</td>\n",
              "      <td>58</td>\n",
              "    </tr>\n",
              "    <tr>\n",
              "      <th>Total</th>\n",
              "      <td>354</td>\n",
              "      <td>17</td>\n",
              "      <td>371</td>\n",
              "    </tr>\n",
              "  </tbody>\n",
              "</table>\n",
              "</div>"
            ],
            "text/plain": [
              "                     Actual - Repaid  Actual - Default  Total\n",
              "Predicted - Repaid               312                 1    313\n",
              "Predicted - Default               42                16     58\n",
              "Total                            354                17    371"
            ]
          },
          "metadata": {
            "tags": []
          },
          "execution_count": 23
        }
      ]
    },
    {
      "cell_type": "markdown",
      "metadata": {
        "id": "0m_QkUnlwAYc",
        "colab_type": "text"
      },
      "source": [
        "#### Resumen"
      ]
    },
    {
      "cell_type": "code",
      "metadata": {
        "id": "hNmuZLn-wAYe",
        "colab_type": "code",
        "colab": {
          "base_uri": "https://localhost:8080/",
          "height": 207
        },
        "outputId": "887d27b5-c87b-4d41-fda4-b6722225a642"
      },
      "source": [
        "df_sgd_summary = pd.concat(\n",
        "    [metrics_sgd_base_train, metrics_sgd_base_test, metrics_sgd_opt_train, metrics_sgd_opt_test]\n",
        ")\n",
        "df_sgd_summary.index = ['SGD Base - Train', 'SGD Base - Test', 'SGD Optimized - Train', 'SGD Optimized - Test']\n",
        "\n",
        "print('Resumen:\\n')\n",
        "df_sgd_summary"
      ],
      "execution_count": 24,
      "outputs": [
        {
          "output_type": "stream",
          "text": [
            "Resumen:\n",
            "\n"
          ],
          "name": "stdout"
        },
        {
          "output_type": "execute_result",
          "data": {
            "text/html": [
              "<div>\n",
              "<style scoped>\n",
              "    .dataframe tbody tr th:only-of-type {\n",
              "        vertical-align: middle;\n",
              "    }\n",
              "\n",
              "    .dataframe tbody tr th {\n",
              "        vertical-align: top;\n",
              "    }\n",
              "\n",
              "    .dataframe thead th {\n",
              "        text-align: right;\n",
              "    }\n",
              "</style>\n",
              "<table border=\"1\" class=\"dataframe\">\n",
              "  <thead>\n",
              "    <tr style=\"text-align: right;\">\n",
              "      <th></th>\n",
              "      <th>Accuracy</th>\n",
              "      <th>Precision</th>\n",
              "      <th>Recall</th>\n",
              "      <th>F1-Score</th>\n",
              "    </tr>\n",
              "  </thead>\n",
              "  <tbody>\n",
              "    <tr>\n",
              "      <th>SGD Base - Train</th>\n",
              "      <td>87.32%</td>\n",
              "      <td>71.43%</td>\n",
              "      <td>41.83%</td>\n",
              "      <td>52.76%</td>\n",
              "    </tr>\n",
              "    <tr>\n",
              "      <th>SGD Base - Test</th>\n",
              "      <td>86.79%</td>\n",
              "      <td>64.52%</td>\n",
              "      <td>34.48%</td>\n",
              "      <td>44.94%</td>\n",
              "    </tr>\n",
              "    <tr>\n",
              "      <th>SGD Optimized - Train</th>\n",
              "      <td>87.32%</td>\n",
              "      <td>92.00%</td>\n",
              "      <td>27.49%</td>\n",
              "      <td>42.33%</td>\n",
              "    </tr>\n",
              "    <tr>\n",
              "      <th>SGD Optimized - Test</th>\n",
              "      <td>88.41%</td>\n",
              "      <td>94.12%</td>\n",
              "      <td>27.59%</td>\n",
              "      <td>42.67%</td>\n",
              "    </tr>\n",
              "  </tbody>\n",
              "</table>\n",
              "</div>"
            ],
            "text/plain": [
              "                      Accuracy Precision  Recall F1-Score\n",
              "SGD Base - Train        87.32%    71.43%  41.83%   52.76%\n",
              "SGD Base - Test         86.79%    64.52%  34.48%   44.94%\n",
              "SGD Optimized - Train   87.32%    92.00%  27.49%   42.33%\n",
              "SGD Optimized - Test    88.41%    94.12%  27.59%   42.67%"
            ]
          },
          "metadata": {
            "tags": []
          },
          "execution_count": 24
        }
      ]
    },
    {
      "cell_type": "markdown",
      "metadata": {
        "id": "bWc09DtmwAYk",
        "colab_type": "text"
      },
      "source": [
        "## Ejercicio 3: Árboles de Decisión\n",
        "\n",
        "En este ejercicio se entrenarán árboles de decisión para predecir la variable objetivo.\n",
        "\n",
        "Para ello, deberán utilizar la clase DecisionTreeClassifier de scikit-learn.\n",
        "\n",
        "Documentación:\n",
        "- https://scikit-learn.org/stable/modules/tree.html\n",
        "  - https://scikit-learn.org/stable/modules/tree.html#tips-on-practical-use\n",
        "- https://scikit-learn.org/stable/modules/generated/sklearn.tree.DecisionTreeClassifier.html\n",
        "- https://scikit-learn.org/stable/auto_examples/tree/plot_unveil_tree_structure.html"
      ]
    },
    {
      "cell_type": "markdown",
      "metadata": {
        "id": "XaNBded9wAYl",
        "colab_type": "text"
      },
      "source": [
        "\n",
        "### Ejercicio 3.1: DecisionTreeClassifier con hiperparámetros por defecto\n",
        "\n",
        "Entrenar y evaluar el clasificador DecisionTreeClassifier usando los valores por omisión de scikit-learn para todos los parámetros. Únicamente **fijar la semilla aleatoria** para hacer repetible el experimento.\n",
        "\n",
        "Evaluar sobre el conjunto de **entrenamiento** y sobre el conjunto de **evaluación**, reportando:\n",
        "- Accuracy\n",
        "- Precision\n",
        "- Recall\n",
        "- F1\n",
        "- matriz de confusión\n"
      ]
    },
    {
      "cell_type": "code",
      "metadata": {
        "id": "IU7nF4YFP9QX",
        "colab_type": "code",
        "colab": {}
      },
      "source": [
        "# Entrenamiento\n",
        "clf = tree.DecisionTreeClassifier(random_state=0)\n",
        "# dt_model_base = tree.DecisionTreeClassifier(random_state=0,)\n",
        "dt_model_base = clf.fit(X_train, y_train)"
      ],
      "execution_count": 25,
      "outputs": []
    },
    {
      "cell_type": "code",
      "metadata": {
        "id": "VX2d1wvLOrUk",
        "colab_type": "code",
        "colab": {}
      },
      "source": [
        "# Predicciones\n",
        "y_train_pred_dt_base = dt_model_base.predict(X_train)\n",
        "y_test_pred_dt_base = dt_model_base.predict(X_test)"
      ],
      "execution_count": 26,
      "outputs": []
    },
    {
      "cell_type": "code",
      "metadata": {
        "id": "PCxO__P0Qjd1",
        "colab_type": "code",
        "colab": {
          "base_uri": "https://localhost:8080/",
          "height": 80
        },
        "outputId": "82c6417e-1bbf-4a0f-f5ed-b02ce144f33d"
      },
      "source": [
        "# Metrics\n",
        "metrics_dt_base_train = get_metrics(y_train, y_train_pred_dt_base)\n",
        "metrics_dt_base_train"
      ],
      "execution_count": 27,
      "outputs": [
        {
          "output_type": "execute_result",
          "data": {
            "text/html": [
              "<div>\n",
              "<style scoped>\n",
              "    .dataframe tbody tr th:only-of-type {\n",
              "        vertical-align: middle;\n",
              "    }\n",
              "\n",
              "    .dataframe tbody tr th {\n",
              "        vertical-align: top;\n",
              "    }\n",
              "\n",
              "    .dataframe thead th {\n",
              "        text-align: right;\n",
              "    }\n",
              "</style>\n",
              "<table border=\"1\" class=\"dataframe\">\n",
              "  <thead>\n",
              "    <tr style=\"text-align: right;\">\n",
              "      <th></th>\n",
              "      <th>Accuracy</th>\n",
              "      <th>Precision</th>\n",
              "      <th>Recall</th>\n",
              "      <th>F1-Score</th>\n",
              "    </tr>\n",
              "  </thead>\n",
              "  <tbody>\n",
              "    <tr>\n",
              "      <th>0</th>\n",
              "      <td>100.00%</td>\n",
              "      <td>100.00%</td>\n",
              "      <td>100.00%</td>\n",
              "      <td>100.00%</td>\n",
              "    </tr>\n",
              "  </tbody>\n",
              "</table>\n",
              "</div>"
            ],
            "text/plain": [
              "  Accuracy Precision   Recall F1-Score\n",
              "0  100.00%   100.00%  100.00%  100.00%"
            ]
          },
          "metadata": {
            "tags": []
          },
          "execution_count": 27
        }
      ]
    },
    {
      "cell_type": "code",
      "metadata": {
        "id": "j_66pQqJQ69R",
        "colab_type": "code",
        "colab": {
          "base_uri": "https://localhost:8080/",
          "height": 142
        },
        "outputId": "c81f5a89-05e3-44cb-a77a-ee954c43cb5a"
      },
      "source": [
        "# Confusion matrix\n",
        "get_confusion_matrix(y_train, y_train_pred_dt_base)"
      ],
      "execution_count": 28,
      "outputs": [
        {
          "output_type": "execute_result",
          "data": {
            "text/html": [
              "<div>\n",
              "<style scoped>\n",
              "    .dataframe tbody tr th:only-of-type {\n",
              "        vertical-align: middle;\n",
              "    }\n",
              "\n",
              "    .dataframe tbody tr th {\n",
              "        vertical-align: top;\n",
              "    }\n",
              "\n",
              "    .dataframe thead th {\n",
              "        text-align: right;\n",
              "    }\n",
              "</style>\n",
              "<table border=\"1\" class=\"dataframe\">\n",
              "  <thead>\n",
              "    <tr style=\"text-align: right;\">\n",
              "      <th></th>\n",
              "      <th>Actual - Repaid</th>\n",
              "      <th>Actual - Default</th>\n",
              "      <th>Total</th>\n",
              "    </tr>\n",
              "  </thead>\n",
              "  <tbody>\n",
              "    <tr>\n",
              "      <th>Predicted - Repaid</th>\n",
              "      <td>1232</td>\n",
              "      <td>0</td>\n",
              "      <td>1232</td>\n",
              "    </tr>\n",
              "    <tr>\n",
              "      <th>Predicted - Default</th>\n",
              "      <td>0</td>\n",
              "      <td>251</td>\n",
              "      <td>251</td>\n",
              "    </tr>\n",
              "    <tr>\n",
              "      <th>Total</th>\n",
              "      <td>1232</td>\n",
              "      <td>251</td>\n",
              "      <td>1483</td>\n",
              "    </tr>\n",
              "  </tbody>\n",
              "</table>\n",
              "</div>"
            ],
            "text/plain": [
              "                     Actual - Repaid  Actual - Default  Total\n",
              "Predicted - Repaid              1232                 0   1232\n",
              "Predicted - Default                0               251    251\n",
              "Total                           1232               251   1483"
            ]
          },
          "metadata": {
            "tags": []
          },
          "execution_count": 28
        }
      ]
    },
    {
      "cell_type": "markdown",
      "metadata": {
        "id": "iYIE_hOOwAYl",
        "colab_type": "text"
      },
      "source": [
        "### Ejercicio 3.2: Ajuste de Hiperparámetros\n",
        "\n",
        "Seleccionar valores para los hiperparámetros principales del DecisionTreeClassifier. Como mínimo, probar diferentes criterios de partición (criterion), profundidad máxima del árbol (max_depth), y cantidad mínima de samples por hoja (min_samples_leaf).\n",
        "\n",
        "Para ello, usar grid-search y 5-fold cross-validation sobre el conjunto de entrenamiento para explorar muchas combinaciones posibles de valores.\n",
        "\n",
        "Reportar accuracy promedio y varianza para todas las configuraciones.\n",
        "\n",
        "Para la mejor configuración encontrada, evaluar sobre el conjunto de **entrenamiento** y sobre el conjunto de **evaluación**, reportando:\n",
        "- Accuracy\n",
        "- Precision\n",
        "- Recall\n",
        "- F1\n",
        "- matriz de confusión\n",
        "\n",
        "\n",
        "Documentación:\n",
        "- https://scikit-learn.org/stable/modules/grid_search.html\n",
        "- https://scikit-learn.org/stable/modules/generated/sklearn.model_selection.GridSearchCV.html"
      ]
    },
    {
      "cell_type": "code",
      "metadata": {
        "id": "5sy7HJwfTyQo",
        "colab_type": "code",
        "colab": {}
      },
      "source": [
        "# Lista de diferentes valores para los parámetros\n",
        "\n",
        "param_grid_dt = [\n",
        "    {\n",
        "        'criterion': ['gini', 'entropy'],\n",
        "        'max_depth': np.arange(1, 30),\n",
        "        'min_samples_leaf': [1, 5, 10, 20, 50, 100]\n",
        "    }\n",
        "]"
      ],
      "execution_count": 29,
      "outputs": []
    },
    {
      "cell_type": "code",
      "metadata": {
        "id": "vo8JecB4Vdp1",
        "colab_type": "code",
        "colab": {
          "base_uri": "https://localhost:8080/",
          "height": 340
        },
        "outputId": "ab172240-8a2f-444f-c832-5d41b888854c"
      },
      "source": [
        "dt_model_gscv = tree.DecisionTreeClassifier(random_state=0)\n",
        "\n",
        "dt_cv = GridSearchCV(dt_model_gscv, param_grid_dt, scoring='accuracy', cv=5)\n",
        "dt_cv.fit(X_train, y_train)"
      ],
      "execution_count": 30,
      "outputs": [
        {
          "output_type": "execute_result",
          "data": {
            "text/plain": [
              "GridSearchCV(cv=5, error_score=nan,\n",
              "             estimator=DecisionTreeClassifier(ccp_alpha=0.0, class_weight=None,\n",
              "                                              criterion='gini', max_depth=None,\n",
              "                                              max_features=None,\n",
              "                                              max_leaf_nodes=None,\n",
              "                                              min_impurity_decrease=0.0,\n",
              "                                              min_impurity_split=None,\n",
              "                                              min_samples_leaf=1,\n",
              "                                              min_samples_split=2,\n",
              "                                              min_weight_fraction_leaf=0.0,\n",
              "                                              presort='deprecated',\n",
              "                                              random_state=0, splitter='best'),\n",
              "             iid='deprecated', n_jobs=None,\n",
              "             param_grid=[{'criterion': ['gini', 'entropy'],\n",
              "                          'max_depth': array([ 1,  2,  3,  4,  5,  6,  7,  8,  9, 10, 11, 12, 13, 14, 15, 16, 17,\n",
              "       18, 19, 20, 21, 22, 23, 24, 25, 26, 27, 28, 29]),\n",
              "                          'min_samples_leaf': [1, 5, 10, 20, 50, 100]}],\n",
              "             pre_dispatch='2*n_jobs', refit=True, return_train_score=False,\n",
              "             scoring='accuracy', verbose=0)"
            ]
          },
          "metadata": {
            "tags": []
          },
          "execution_count": 30
        }
      ]
    },
    {
      "cell_type": "code",
      "metadata": {
        "id": "vIJLTs3fVvuv",
        "colab_type": "code",
        "colab": {
          "base_uri": "https://localhost:8080/",
          "height": 238
        },
        "outputId": "ade94f7a-dcb3-40ea-8465-6164bb8617b2"
      },
      "source": [
        "results_dt = pd.DataFrame(dt_cv.cv_results_)\n",
        "results_dt = results_dt.sort_values(by=['rank_test_score'], ascending=True).reset_index(drop=True)\n",
        "\n",
        "print('Resultados de GridSearch Cross-Validation:\\n')\n",
        "results_dt.head(5)"
      ],
      "execution_count": 31,
      "outputs": [
        {
          "output_type": "stream",
          "text": [
            "Resultados de GridSearch Cross-Validation:\n",
            "\n"
          ],
          "name": "stdout"
        },
        {
          "output_type": "execute_result",
          "data": {
            "text/html": [
              "<div>\n",
              "<style scoped>\n",
              "    .dataframe tbody tr th:only-of-type {\n",
              "        vertical-align: middle;\n",
              "    }\n",
              "\n",
              "    .dataframe tbody tr th {\n",
              "        vertical-align: top;\n",
              "    }\n",
              "\n",
              "    .dataframe thead th {\n",
              "        text-align: right;\n",
              "    }\n",
              "</style>\n",
              "<table border=\"1\" class=\"dataframe\">\n",
              "  <thead>\n",
              "    <tr style=\"text-align: right;\">\n",
              "      <th></th>\n",
              "      <th>mean_fit_time</th>\n",
              "      <th>std_fit_time</th>\n",
              "      <th>mean_score_time</th>\n",
              "      <th>std_score_time</th>\n",
              "      <th>param_criterion</th>\n",
              "      <th>param_max_depth</th>\n",
              "      <th>param_min_samples_leaf</th>\n",
              "      <th>params</th>\n",
              "      <th>split0_test_score</th>\n",
              "      <th>split1_test_score</th>\n",
              "      <th>split2_test_score</th>\n",
              "      <th>split3_test_score</th>\n",
              "      <th>split4_test_score</th>\n",
              "      <th>mean_test_score</th>\n",
              "      <th>std_test_score</th>\n",
              "      <th>rank_test_score</th>\n",
              "    </tr>\n",
              "  </thead>\n",
              "  <tbody>\n",
              "    <tr>\n",
              "      <th>0</th>\n",
              "      <td>0.006464</td>\n",
              "      <td>0.000126</td>\n",
              "      <td>0.000647</td>\n",
              "      <td>0.000053</td>\n",
              "      <td>gini</td>\n",
              "      <td>7</td>\n",
              "      <td>10</td>\n",
              "      <td>{'criterion': 'gini', 'max_depth': 7, 'min_sam...</td>\n",
              "      <td>0.858586</td>\n",
              "      <td>0.882155</td>\n",
              "      <td>0.895623</td>\n",
              "      <td>0.891892</td>\n",
              "      <td>0.888514</td>\n",
              "      <td>0.883354</td>\n",
              "      <td>0.013152</td>\n",
              "      <td>1</td>\n",
              "    </tr>\n",
              "    <tr>\n",
              "      <th>1</th>\n",
              "      <td>0.005953</td>\n",
              "      <td>0.000223</td>\n",
              "      <td>0.000661</td>\n",
              "      <td>0.000048</td>\n",
              "      <td>gini</td>\n",
              "      <td>6</td>\n",
              "      <td>10</td>\n",
              "      <td>{'criterion': 'gini', 'max_depth': 6, 'min_sam...</td>\n",
              "      <td>0.878788</td>\n",
              "      <td>0.882155</td>\n",
              "      <td>0.892256</td>\n",
              "      <td>0.885135</td>\n",
              "      <td>0.878378</td>\n",
              "      <td>0.883342</td>\n",
              "      <td>0.005088</td>\n",
              "      <td>2</td>\n",
              "    </tr>\n",
              "    <tr>\n",
              "      <th>2</th>\n",
              "      <td>0.007924</td>\n",
              "      <td>0.000185</td>\n",
              "      <td>0.000676</td>\n",
              "      <td>0.000024</td>\n",
              "      <td>gini</td>\n",
              "      <td>9</td>\n",
              "      <td>1</td>\n",
              "      <td>{'criterion': 'gini', 'max_depth': 9, 'min_sam...</td>\n",
              "      <td>0.845118</td>\n",
              "      <td>0.875421</td>\n",
              "      <td>0.895623</td>\n",
              "      <td>0.912162</td>\n",
              "      <td>0.878378</td>\n",
              "      <td>0.881340</td>\n",
              "      <td>0.022405</td>\n",
              "      <td>3</td>\n",
              "    </tr>\n",
              "    <tr>\n",
              "      <th>3</th>\n",
              "      <td>0.008236</td>\n",
              "      <td>0.000275</td>\n",
              "      <td>0.000651</td>\n",
              "      <td>0.000032</td>\n",
              "      <td>gini</td>\n",
              "      <td>10</td>\n",
              "      <td>5</td>\n",
              "      <td>{'criterion': 'gini', 'max_depth': 10, 'min_sa...</td>\n",
              "      <td>0.851852</td>\n",
              "      <td>0.878788</td>\n",
              "      <td>0.878788</td>\n",
              "      <td>0.915541</td>\n",
              "      <td>0.878378</td>\n",
              "      <td>0.880669</td>\n",
              "      <td>0.020292</td>\n",
              "      <td>4</td>\n",
              "    </tr>\n",
              "    <tr>\n",
              "      <th>4</th>\n",
              "      <td>0.007886</td>\n",
              "      <td>0.000069</td>\n",
              "      <td>0.000686</td>\n",
              "      <td>0.000092</td>\n",
              "      <td>entropy</td>\n",
              "      <td>5</td>\n",
              "      <td>10</td>\n",
              "      <td>{'criterion': 'entropy', 'max_depth': 5, 'min_...</td>\n",
              "      <td>0.885522</td>\n",
              "      <td>0.875421</td>\n",
              "      <td>0.882155</td>\n",
              "      <td>0.881757</td>\n",
              "      <td>0.878378</td>\n",
              "      <td>0.880647</td>\n",
              "      <td>0.003456</td>\n",
              "      <td>5</td>\n",
              "    </tr>\n",
              "  </tbody>\n",
              "</table>\n",
              "</div>"
            ],
            "text/plain": [
              "   mean_fit_time  std_fit_time  ...  std_test_score  rank_test_score\n",
              "0       0.006464      0.000126  ...        0.013152                1\n",
              "1       0.005953      0.000223  ...        0.005088                2\n",
              "2       0.007924      0.000185  ...        0.022405                3\n",
              "3       0.008236      0.000275  ...        0.020292                4\n",
              "4       0.007886      0.000069  ...        0.003456                5\n",
              "\n",
              "[5 rows x 16 columns]"
            ]
          },
          "metadata": {
            "tags": []
          },
          "execution_count": 31
        }
      ]
    },
    {
      "cell_type": "code",
      "metadata": {
        "id": "k2OW98kvW4Bf",
        "colab_type": "code",
        "colab": {
          "base_uri": "https://localhost:8080/",
          "height": 68
        },
        "outputId": "aead8d90-dcb1-4ba8-887b-6e253cb5cb67"
      },
      "source": [
        "# Mejores params\n",
        "\n",
        "best_params_dt = results_dt.loc[0, 'params']\n",
        "\n",
        "print('Mejores parámetros:\\n')\n",
        "best_params_dt"
      ],
      "execution_count": 32,
      "outputs": [
        {
          "output_type": "stream",
          "text": [
            "Mejores parámetros:\n",
            "\n"
          ],
          "name": "stdout"
        },
        {
          "output_type": "execute_result",
          "data": {
            "text/plain": [
              "{'criterion': 'gini', 'max_depth': 7, 'min_samples_leaf': 10}"
            ]
          },
          "metadata": {
            "tags": []
          },
          "execution_count": 32
        }
      ]
    },
    {
      "cell_type": "code",
      "metadata": {
        "id": "IbO_nJmOXZOJ",
        "colab_type": "code",
        "colab": {}
      },
      "source": [
        "# Entrenamiento\n",
        "dt_model_opt = tree.DecisionTreeClassifier(**best_params_dt, random_state=0)\n",
        "dt_model_opt.fit(X_train, y_train);"
      ],
      "execution_count": 33,
      "outputs": []
    },
    {
      "cell_type": "code",
      "metadata": {
        "id": "GdeOEU_3Xpph",
        "colab_type": "code",
        "colab": {}
      },
      "source": [
        "# Predicciones\n",
        "y_train_pred_dt_opt = dt_model_opt.predict(X_train)\n",
        "y_test_pred_dt_opt = dt_model_opt.predict(X_test)"
      ],
      "execution_count": 34,
      "outputs": []
    },
    {
      "cell_type": "markdown",
      "metadata": {
        "id": "kQPVwrhmX-4i",
        "colab_type": "text"
      },
      "source": [
        "#### Métricas sobre conjunto de entrenamiento"
      ]
    },
    {
      "cell_type": "code",
      "metadata": {
        "id": "4qJx-xcuXssY",
        "colab_type": "code",
        "colab": {
          "base_uri": "https://localhost:8080/",
          "height": 80
        },
        "outputId": "e3a9d002-4eac-472a-d92f-cde911fcdee0"
      },
      "source": [
        "metrics_dt_opt_train = get_metrics(y_train, y_train_pred_dt_opt)\n",
        "\n",
        "metrics_dt_opt_train"
      ],
      "execution_count": 35,
      "outputs": [
        {
          "output_type": "execute_result",
          "data": {
            "text/html": [
              "<div>\n",
              "<style scoped>\n",
              "    .dataframe tbody tr th:only-of-type {\n",
              "        vertical-align: middle;\n",
              "    }\n",
              "\n",
              "    .dataframe tbody tr th {\n",
              "        vertical-align: top;\n",
              "    }\n",
              "\n",
              "    .dataframe thead th {\n",
              "        text-align: right;\n",
              "    }\n",
              "</style>\n",
              "<table border=\"1\" class=\"dataframe\">\n",
              "  <thead>\n",
              "    <tr style=\"text-align: right;\">\n",
              "      <th></th>\n",
              "      <th>Accuracy</th>\n",
              "      <th>Precision</th>\n",
              "      <th>Recall</th>\n",
              "      <th>F1-Score</th>\n",
              "    </tr>\n",
              "  </thead>\n",
              "  <tbody>\n",
              "    <tr>\n",
              "      <th>0</th>\n",
              "      <td>89.75%</td>\n",
              "      <td>90.24%</td>\n",
              "      <td>44.22%</td>\n",
              "      <td>59.36%</td>\n",
              "    </tr>\n",
              "  </tbody>\n",
              "</table>\n",
              "</div>"
            ],
            "text/plain": [
              "  Accuracy Precision  Recall F1-Score\n",
              "0   89.75%    90.24%  44.22%   59.36%"
            ]
          },
          "metadata": {
            "tags": []
          },
          "execution_count": 35
        }
      ]
    },
    {
      "cell_type": "code",
      "metadata": {
        "id": "EPowJtxyXwNM",
        "colab_type": "code",
        "colab": {
          "base_uri": "https://localhost:8080/",
          "height": 142
        },
        "outputId": "60fef0d6-d7b6-4b68-afec-02d03005634c"
      },
      "source": [
        "get_confusion_matrix(y_train, y_train_pred_dt_opt)"
      ],
      "execution_count": 36,
      "outputs": [
        {
          "output_type": "execute_result",
          "data": {
            "text/html": [
              "<div>\n",
              "<style scoped>\n",
              "    .dataframe tbody tr th:only-of-type {\n",
              "        vertical-align: middle;\n",
              "    }\n",
              "\n",
              "    .dataframe tbody tr th {\n",
              "        vertical-align: top;\n",
              "    }\n",
              "\n",
              "    .dataframe thead th {\n",
              "        text-align: right;\n",
              "    }\n",
              "</style>\n",
              "<table border=\"1\" class=\"dataframe\">\n",
              "  <thead>\n",
              "    <tr style=\"text-align: right;\">\n",
              "      <th></th>\n",
              "      <th>Actual - Repaid</th>\n",
              "      <th>Actual - Default</th>\n",
              "      <th>Total</th>\n",
              "    </tr>\n",
              "  </thead>\n",
              "  <tbody>\n",
              "    <tr>\n",
              "      <th>Predicted - Repaid</th>\n",
              "      <td>1220</td>\n",
              "      <td>12</td>\n",
              "      <td>1232</td>\n",
              "    </tr>\n",
              "    <tr>\n",
              "      <th>Predicted - Default</th>\n",
              "      <td>140</td>\n",
              "      <td>111</td>\n",
              "      <td>251</td>\n",
              "    </tr>\n",
              "    <tr>\n",
              "      <th>Total</th>\n",
              "      <td>1360</td>\n",
              "      <td>123</td>\n",
              "      <td>1483</td>\n",
              "    </tr>\n",
              "  </tbody>\n",
              "</table>\n",
              "</div>"
            ],
            "text/plain": [
              "                     Actual - Repaid  Actual - Default  Total\n",
              "Predicted - Repaid              1220                12   1232\n",
              "Predicted - Default              140               111    251\n",
              "Total                           1360               123   1483"
            ]
          },
          "metadata": {
            "tags": []
          },
          "execution_count": 36
        }
      ]
    },
    {
      "cell_type": "markdown",
      "metadata": {
        "id": "QxxuCA0OX31w",
        "colab_type": "text"
      },
      "source": [
        "#### Métricas sobre conjunto de evaluación"
      ]
    },
    {
      "cell_type": "code",
      "metadata": {
        "id": "a8CjgYIDXxGd",
        "colab_type": "code",
        "colab": {
          "base_uri": "https://localhost:8080/",
          "height": 80
        },
        "outputId": "46141da4-2637-4a3e-8081-1ee614cfb7b3"
      },
      "source": [
        "metrics_dt_opt_test = get_metrics(y_test, y_test_pred_dt_opt)\n",
        "\n",
        "metrics_dt_opt_test"
      ],
      "execution_count": 37,
      "outputs": [
        {
          "output_type": "execute_result",
          "data": {
            "text/html": [
              "<div>\n",
              "<style scoped>\n",
              "    .dataframe tbody tr th:only-of-type {\n",
              "        vertical-align: middle;\n",
              "    }\n",
              "\n",
              "    .dataframe tbody tr th {\n",
              "        vertical-align: top;\n",
              "    }\n",
              "\n",
              "    .dataframe thead th {\n",
              "        text-align: right;\n",
              "    }\n",
              "</style>\n",
              "<table border=\"1\" class=\"dataframe\">\n",
              "  <thead>\n",
              "    <tr style=\"text-align: right;\">\n",
              "      <th></th>\n",
              "      <th>Accuracy</th>\n",
              "      <th>Precision</th>\n",
              "      <th>Recall</th>\n",
              "      <th>F1-Score</th>\n",
              "    </tr>\n",
              "  </thead>\n",
              "  <tbody>\n",
              "    <tr>\n",
              "      <th>0</th>\n",
              "      <td>89.22%</td>\n",
              "      <td>80.00%</td>\n",
              "      <td>41.38%</td>\n",
              "      <td>54.55%</td>\n",
              "    </tr>\n",
              "  </tbody>\n",
              "</table>\n",
              "</div>"
            ],
            "text/plain": [
              "  Accuracy Precision  Recall F1-Score\n",
              "0   89.22%    80.00%  41.38%   54.55%"
            ]
          },
          "metadata": {
            "tags": []
          },
          "execution_count": 37
        }
      ]
    },
    {
      "cell_type": "code",
      "metadata": {
        "id": "buUt3l3mX2wu",
        "colab_type": "code",
        "colab": {
          "base_uri": "https://localhost:8080/",
          "height": 142
        },
        "outputId": "d6189a53-672b-496f-95c9-31bd047fc67d"
      },
      "source": [
        "get_confusion_matrix(y_test, y_test_pred_dt_opt)"
      ],
      "execution_count": 38,
      "outputs": [
        {
          "output_type": "execute_result",
          "data": {
            "text/html": [
              "<div>\n",
              "<style scoped>\n",
              "    .dataframe tbody tr th:only-of-type {\n",
              "        vertical-align: middle;\n",
              "    }\n",
              "\n",
              "    .dataframe tbody tr th {\n",
              "        vertical-align: top;\n",
              "    }\n",
              "\n",
              "    .dataframe thead th {\n",
              "        text-align: right;\n",
              "    }\n",
              "</style>\n",
              "<table border=\"1\" class=\"dataframe\">\n",
              "  <thead>\n",
              "    <tr style=\"text-align: right;\">\n",
              "      <th></th>\n",
              "      <th>Actual - Repaid</th>\n",
              "      <th>Actual - Default</th>\n",
              "      <th>Total</th>\n",
              "    </tr>\n",
              "  </thead>\n",
              "  <tbody>\n",
              "    <tr>\n",
              "      <th>Predicted - Repaid</th>\n",
              "      <td>307</td>\n",
              "      <td>6</td>\n",
              "      <td>313</td>\n",
              "    </tr>\n",
              "    <tr>\n",
              "      <th>Predicted - Default</th>\n",
              "      <td>34</td>\n",
              "      <td>24</td>\n",
              "      <td>58</td>\n",
              "    </tr>\n",
              "    <tr>\n",
              "      <th>Total</th>\n",
              "      <td>341</td>\n",
              "      <td>30</td>\n",
              "      <td>371</td>\n",
              "    </tr>\n",
              "  </tbody>\n",
              "</table>\n",
              "</div>"
            ],
            "text/plain": [
              "                     Actual - Repaid  Actual - Default  Total\n",
              "Predicted - Repaid               307                 6    313\n",
              "Predicted - Default               34                24     58\n",
              "Total                            341                30    371"
            ]
          },
          "metadata": {
            "tags": []
          },
          "execution_count": 38
        }
      ]
    },
    {
      "cell_type": "code",
      "metadata": {
        "id": "MQHu3D5CYYbg",
        "colab_type": "code",
        "colab": {}
      },
      "source": [
        ""
      ],
      "execution_count": null,
      "outputs": []
    }
  ]
}